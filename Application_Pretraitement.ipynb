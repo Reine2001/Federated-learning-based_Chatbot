{
 "cells": [
  {
   "cell_type": "code",
   "execution_count": 1,
   "id": "26549059-2aeb-4937-ab95-398d8c04b8ae",
   "metadata": {},
   "outputs": [
    {
     "name": "stdout",
     "output_type": "stream",
     "text": [
      "Collecting tensorflow_federated\n",
      "  Using cached tensorflow_federated-0.33.0-py2.py3-none-any.whl.metadata (3.4 kB)\n",
      "Collecting absl-py~=1.0.0 (from tensorflow_federated)\n",
      "  Using cached absl_py-1.0.0-py3-none-any.whl.metadata (2.3 kB)\n",
      "Collecting attrs~=21.4.0 (from tensorflow_federated)\n",
      "  Using cached attrs-21.4.0-py2.py3-none-any.whl.metadata (9.8 kB)\n",
      "Collecting cachetools~=3.1.1 (from tensorflow_federated)\n",
      "  Using cached cachetools-3.1.1-py2.py3-none-any.whl.metadata (4.6 kB)\n",
      "Collecting dm-tree~=0.1.7 (from tensorflow_federated)\n",
      "  Using cached dm_tree-0.1.8-cp312-cp312-win_amd64.whl.metadata (2.0 kB)\n",
      "Collecting farmhashpy~=0.4.0 (from tensorflow_federated)\n",
      "  Using cached farmhashpy-0.4.0.tar.gz (98 kB)\n",
      "  Preparing metadata (setup.py): started\n",
      "  Preparing metadata (setup.py): finished with status 'done'\n",
      "Collecting grpcio~=1.46.3 (from tensorflow_federated)\n",
      "  Using cached grpcio-1.46.5.tar.gz (21.8 MB)\n",
      "  Preparing metadata (setup.py): started\n",
      "  Preparing metadata (setup.py): finished with status 'done'\n",
      "INFO: pip is looking at multiple versions of tensorflow-federated to determine which version is compatible with other requirements. This could take a while.\n",
      "Collecting tensorflow_federated\n",
      "  Using cached tensorflow_federated-0.32.0-py2.py3-none-any.whl.metadata (3.4 kB)\n",
      "  Using cached tensorflow_federated-0.31.0-py2.py3-none-any.whl.metadata (3.4 kB)\n",
      "  Using cached tensorflow_federated-0.30.0-py2.py3-none-any.whl.metadata (3.4 kB)\n",
      "Collecting attrs~=21.2.0 (from tensorflow_federated)\n",
      "  Using cached attrs-21.2.0-py2.py3-none-any.whl.metadata (9.1 kB)\n",
      "Collecting tensorflow_federated\n",
      "  Using cached tensorflow_federated-0.29.0-py2.py3-none-any.whl.metadata (3.4 kB)\n",
      "  Using cached tensorflow_federated-0.28.0-py2.py3-none-any.whl.metadata (3.4 kB)\n",
      "  Using cached tensorflow_federated-0.27.0-py2.py3-none-any.whl.metadata (3.5 kB)\n",
      "Collecting grpcio~=1.34.0 (from tensorflow_federated)\n",
      "  Using cached grpcio-1.34.1.tar.gz (21.1 MB)\n",
      "  Preparing metadata (setup.py): started\n",
      "  Preparing metadata (setup.py): finished with status 'done'\n",
      "Collecting jax~=0.2.27 (from tensorflow_federated)\n",
      "  Using cached jax-0.2.28.tar.gz (887 kB)\n",
      "  Preparing metadata (setup.py): started\n",
      "  Preparing metadata (setup.py): finished with status 'done'\n",
      "Collecting tensorflow_federated\n",
      "  Using cached tensorflow_federated-0.26.0-py2.py3-none-any.whl.metadata (3.5 kB)\n",
      "INFO: pip is still looking at multiple versions of tensorflow-federated to determine which version is compatible with other requirements. This could take a while.\n",
      "  Using cached tensorflow_federated-0.24.0-py2.py3-none-any.whl.metadata (3.5 kB)\n",
      "  Using cached tensorflow_federated-0.23.0-py2.py3-none-any.whl.metadata (3.5 kB)\n",
      "  Using cached tensorflow_federated-0.22.0-py2.py3-none-any.whl.metadata (3.5 kB)\n",
      "  Using cached tensorflow_federated-0.21.0-py2.py3-none-any.whl.metadata (3.5 kB)\n",
      "  Using cached tensorflow_federated-0.20.0-py2.py3-none-any.whl.metadata (3.6 kB)\n",
      "INFO: This is taking longer than usual. You might need to provide the dependency resolver with stricter constraints to reduce runtime. See https://pip.pypa.io/warnings/backtracking for guidance. If you want to abort this run, press Ctrl + C.\n",
      "  Using cached tensorflow_federated-0.19.0-py2.py3-none-any.whl.metadata (3.5 kB)\n",
      "Collecting absl-py~=0.10 (from tensorflow_federated)\n",
      "  Using cached absl_py-0.15.0-py3-none-any.whl.metadata (2.4 kB)\n",
      "Collecting attrs~=19.3.0 (from tensorflow_federated)\n",
      "  Using cached attrs-19.3.0-py2.py3-none-any.whl.metadata (9.0 kB)\n",
      "Collecting tensorflow_federated\n",
      "  Using cached tensorflow_federated-0.18.0-py2.py3-none-any.whl.metadata (3.5 kB)\n",
      "Collecting grpcio~=1.32.0 (from tensorflow_federated)\n",
      "  Using cached grpcio-1.32.0.tar.gz (20.8 MB)\n",
      "  Preparing metadata (setup.py): started\n",
      "  Preparing metadata (setup.py): finished with status 'done'\n",
      "Collecting h5py~=2.10.0 (from tensorflow_federated)\n",
      "  Using cached h5py-2.10.0.tar.gz (301 kB)\n",
      "  Preparing metadata (setup.py): started\n",
      "  Preparing metadata (setup.py): finished with status 'done'\n",
      "Collecting tensorflow_federated\n",
      "  Using cached tensorflow_federated-0.17.0-py2.py3-none-any.whl.metadata (3.4 kB)\n",
      "Collecting absl-py~=0.9.0 (from tensorflow_federated)\n",
      "  Using cached absl-py-0.9.0.tar.gz (104 kB)\n",
      "  Preparing metadata (setup.py): started\n",
      "  Preparing metadata (setup.py): finished with status 'error'\n",
      "Note: you may need to restart the kernel to use updated packages.\n"
     ]
    },
    {
     "name": "stderr",
     "output_type": "stream",
     "text": [
      "  error: subprocess-exited-with-error\n",
      "  \n",
      "  python setup.py egg_info did not run successfully.\n",
      "  exit code: 1\n",
      "  \n",
      "  [6 lines of output]\n",
      "  Traceback (most recent call last):\n",
      "    File \"<string>\", line 2, in <module>\n",
      "    File \"<pip-setuptools-caller>\", line 34, in <module>\n",
      "    File \"C:\\Users\\HP\\AppData\\Local\\Temp\\pip-install-ygjh5w2c\\absl-py_7be88201e12a40aaaa71e7a9da42dba6\\setup.py\", line 34, in <module>\n",
      "      raise RuntimeError('Python version 2.7 or 3.4+ is required.')\n",
      "  RuntimeError: Python version 2.7 or 3.4+ is required.\n",
      "  [end of output]\n",
      "  \n",
      "  note: This error originates from a subprocess, and is likely not a problem with pip.\n",
      "error: metadata-generation-failed\n",
      "\n",
      "Encountered error while generating package metadata.\n",
      "\n",
      "See above for output.\n",
      "\n",
      "note: This is an issue with the package mentioned above, not pip.\n",
      "hint: See above for details.\n"
     ]
    }
   ],
   "source": [
    "pip install tensorflow_federated"
   ]
  },
  {
   "cell_type": "code",
   "execution_count": null,
   "id": "802dd137-ad1c-41f0-a30d-1cc38c4eb9db",
   "metadata": {},
   "outputs": [],
   "source": []
  }
 ],
 "metadata": {
  "kernelspec": {
   "display_name": "Python 3 (ipykernel)",
   "language": "python",
   "name": "python3"
  },
  "language_info": {
   "codemirror_mode": {
    "name": "ipython",
    "version": 3
   },
   "file_extension": ".py",
   "mimetype": "text/x-python",
   "name": "python",
   "nbconvert_exporter": "python",
   "pygments_lexer": "ipython3",
   "version": "3.12.4"
  }
 },
 "nbformat": 4,
 "nbformat_minor": 5
}
